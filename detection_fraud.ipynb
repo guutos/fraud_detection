{
 "cells": [
  {
   "cell_type": "code",
   "execution_count": null,
   "id": "716a6711-c9ab-416f-90af-11f25ffcdd63",
   "metadata": {},
   "outputs": [],
   "source": [
    "# Detecção de Fraudes de Cartões de Crédito\n",
    "# https://www.kaggle.com/datasets/kartik2112/fraud-detection/code\n",
    "\n",
    "# Importar os dados com o pandas\n",
    "import pandas as pd\n",
    "\n",
    "transacoes_train_df = pd.read_csv('fraudTrain.csv')\n",
    "transacoes_test_df = pd.read_csv('fraudTest.csv')"
   ]
  },
  {
   "cell_type": "code",
   "execution_count": null,
   "id": "d3f7303f-4930-4132-ad45-5cc747f5a4de",
   "metadata": {},
   "outputs": [],
   "source": [
    "# Resumo da estrutura dos dados\n",
    "transacoes_train_df.info()"
   ]
  },
  {
   "cell_type": "code",
   "execution_count": null,
   "id": "4dbad95b-4e77-4c7a-a9a8-17160bcd671b",
   "metadata": {},
   "outputs": [],
   "source": [
    "# Contar as ocorrências dos valores \"é fraude\"\n",
    "transacoes_test_df['is_fraud'].value_counts()"
   ]
  },
  {
   "cell_type": "code",
   "execution_count": null,
   "id": "430734a2-de3f-474b-9be1-e492a21b2122",
   "metadata": {},
   "outputs": [],
   "source": [
    "# Calcular a acurácia\n",
    "acuracia = (553574) / (553574 + 2145)\n",
    "acuracia"
   ]
  },
  {
   "cell_type": "code",
   "execution_count": null,
   "id": "f202352b-af04-411e-abac-154bb4400b8e",
   "metadata": {},
   "outputs": [],
   "source": [
    "# Gráfico de distribuição de probabilidade para fraude/não fraude\n",
    "import seaborn as sns\n",
    "import matplotlib.pyplot as plt\n",
    "import pandas as pd\n",
    "\n",
    "plt.figure(figsize=(10, 6))\n",
    "sns.kdeplot(data=transacoes_train_df, x='amt', hue='is_fraud', fill=True, common_norm=False)\n",
    "\n",
    "plt.title('Distribuição de probabilidade para fraude/não-fraude', fontsize=14)\n",
    "plt.xlabel('Amount (amt)', fontsize=12)\n",
    "plt.ylabel('Densidade', fontsize=12)\n",
    "plt.xlim(0, 1500)\n",
    "\n",
    "# Exibindo o gráfico\n",
    "plt.show()"
   ]
  },
  {
   "cell_type": "code",
   "execution_count": null,
   "id": "711bf6c2-2854-45b6-bcd8-cdc9edb270f9",
   "metadata": {},
   "outputs": [],
   "source": [
    "# Gerar uma árvore de decisão que classifica fraudes\n",
    "from sklearn.metrics import classification_report\n",
    "from sklearn.tree import DecisionTreeClassifier\n",
    "\n",
    "decision_tree_model = DecisionTreeClassifier(random_state=42)\n",
    "decision_tree_model.fit(X, Y)\n",
    "\n",
    "Y_pred = decision_tree_model.predict(X)\n",
    "\n",
    "report = classification_report(Y, Y_pred)\n",
    "print(report)"
   ]
  },
  {
   "cell_type": "code",
   "execution_count": null,
   "id": "3232013b-1240-4732-95ba-7b4d58295c53",
   "metadata": {},
   "outputs": [],
   "source": [
    "# Profundidade da árvore\n",
    "decision_tree_model.get_depth()"
   ]
  },
  {
   "cell_type": "code",
   "execution_count": null,
   "id": "1b0647c2-4513-488c-9c14-2f16b4c3607f",
   "metadata": {},
   "outputs": [],
   "source": [
    "# Número de folhas da árvore que foi criada\n",
    "decision_tree_model.get_n_leaves()"
   ]
  },
  {
   "cell_type": "code",
   "execution_count": null,
   "id": "09ea3157-4575-4eb1-b365-9a3e1b385318",
   "metadata": {},
   "outputs": [],
   "source": [
    "# Computar a precisão e cobertura do modelo no conjunto de treino e de teste\n",
    "X_train = transacoes_train_df[['amt']]\n",
    "y_train = transacoes_train_df['is_fraud']\n",
    "\n",
    "X_test = transacoes_test_df[['amt']]\n",
    "y_test = transacoes_test_df['is_fraud']\n",
    "\n",
    "y_pred_test = decision_tree_model.predict(X_test)\n",
    "\n",
    "report = classification_report(y_test, y_pred_test)\n",
    "print(report)"
   ]
  },
  {
   "cell_type": "code",
   "execution_count": null,
   "id": "e67f33f7-a7e7-4d98-8b7f-4652007a28b5",
   "metadata": {},
   "outputs": [],
   "source": [
    "# Realizar validação cruzada para avaliar o modelo de forma justa afim de maximizar a cobertura\n",
    "from sklearn.model_selection import GridSearchCV\n",
    "from sklearn.tree import DecisionTreeClassifier\n",
    "from sklearn.metrics import accuracy_score\n",
    "\n",
    "# Definir os parâmetros para o GridSearch\n",
    "param_grid = {\n",
    "    'max_depth': [1, 2, 3, 4, 5, 6, 10, 90],\n",
    "}\n",
    "\n",
    "dt_classifier = DecisionTreeClassifier(random_state=42)\n",
    "grid_search = GridSearchCV(estimator=dt_classifier, param_grid=param_grid, cv=3, scoring='recall')\n",
    "\n",
    "grid_search.fit(X_train, y_train)\n",
    "best_model = grid_search.best_estimator_\n",
    "\n",
    "y_pred_test = best_model.predict(X_test)\n",
    "\n",
    "report_test = classification_report(y_test, y_pred_test)\n",
    "print(report_test)"
   ]
  },
  {
   "cell_type": "code",
   "execution_count": null,
   "id": "3fd2eee5-f2cb-4767-ab27-62077d086173",
   "metadata": {},
   "outputs": [],
   "source": [
    "# Imprimir profundidade máxima e número de nós para verificar qual profundidade maximiza a cobertura\n",
    "print(f\"Profundidade máxima da árvore: {best_model.tree_.max_depth}\")\n",
    "print(f\"Número de nós na árvore: {best_model.tree_.node_count}\")"
   ]
  }
 ],
 "metadata": {
  "kernelspec": {
   "display_name": "Python [conda env:base] *",
   "language": "python",
   "name": "conda-base-py"
  },
  "language_info": {
   "codemirror_mode": {
    "name": "ipython",
    "version": 3
   },
   "file_extension": ".py",
   "mimetype": "text/x-python",
   "name": "python",
   "nbconvert_exporter": "python",
   "pygments_lexer": "ipython3",
   "version": "3.12.7"
  }
 },
 "nbformat": 4,
 "nbformat_minor": 5
}
